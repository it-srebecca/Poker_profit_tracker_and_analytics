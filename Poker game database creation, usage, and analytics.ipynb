{
 "cells": [
  {
   "cell_type": "markdown",
   "id": "9ce75d95",
   "metadata": {},
   "source": [
    "# Poker game database construction and analytics\n",
    "\n",
    "The following is my poker-hand \"tracker\" for 6-max cash games played on for the purposes of **tracking profit/loss**, **hand and table information**, as well as **player statistics and visualisations**.\n",
    "\n",
    "The data used is csv files of data extracted from textual accounts of some of my recent online poker matches collected through Pokerstars.com.\n",
    "\n",
    "## Poker Miniworld description\n",
    "### Entities and attributes\n",
    "\n",
    "- Entities: \n",
    "    - Table: a \"table\" refers to one \"session\" of hands, which can be of any length, at which players can come and go, but has a consistent set of blinds.\n",
    "    - Hand: a hand is a round of poker after which the \"positions\" of players change\n",
    "    - Player: this attribute contains information about the behaviour of players over the course of all hands played\n",
    "    - Play: this attribute contains information about the behaviour of players in each hand\n",
    "    \n",
    "- Attributes: \n",
    "    - Table: name (PK), small blind, big blind, start date and time, duration estimate (this is estimated since the text files did not contain the end times of hands)\n",
    "    - Hand: table name, unique hand number (PK), start date and time, number of players, positions (as a dictionary containing positions and players), winner of any pots (of which there is always a winner of the \"main pot\") and the size of each of the winnings\n",
    "    - Player: player type (either the \"hero\" or a \"villain\"), VPIP count (the number of times a player \"voluntarily puts [money] in pot\") which is an important measure of play style, PFR count (the number of times a player raises pre-flop) which is another important measure of play style, and the username of the player (PK)\n",
    "    - Play: username, hand number, position, starting stack, finishing stack, cards\n",
    "    \n",
    "The entities and attributes are labelled as follows:\n",
    "\n",
    "*poker_table* has columns [\"table_name\", \"small_blind\", \"big_blind\", \"table_datetime_start\", \"table_duration_estimate\"].\n",
    "\n",
    "*hand* has columns [\"hand_table_name\", \"hand_datetime_start\", \"hand_number\", \"number_players\", \"positions\", \"winner_main_pot\", \"winner_side_pot1\", \"winner_side_pot2\", \"winner_side_pot3\", \"money_main_pot\", \"money_side_pot1\", \"money_side_pot2\", \"money_side_pot3\"].\n",
    "\n",
    "*player* has columns [\"type\", \"hands_recorded\", \"vpip_count\", \"pfr_count\",\"username\"].\n",
    "\n",
    "*play* has columns [\"username_play\", \"hand_number_play\",\"position_play\", \"starting_stack\", \"finishing_stack\", \"cards\"].\n",
    "\n",
    "### Relationships among entities\n",
    "A *player* will *play* a *hand* at a *poker_table*.\n",
    "- A row in *hand* has foreign key (FK) referencing the table_name. A table can have many hands and a hand can have just one table.\n",
    "- A row in *play* has foreign key (FK) referencing the username from *player* and the hand number from *hand*. A user can have many rows in *play* but a *play* has just one user. \n",
    "\n",
    "### Constraints at application level\n",
    "- Each hand must have a winner of the \"main pot\"\n",
    "- Each table, hand number and username must be unique\n",
    "- Each hand can have a minimum of 2 and a maximum of 6 participating players.\n",
    "\n",
    "---\n",
    "\n",
    "\n",
    "## Library and database connection\n",
    "For this database I have chosen to use sqlite3."
   ]
  },
  {
   "cell_type": "code",
   "execution_count": 1,
   "id": "7bf0ac6c",
   "metadata": {},
   "outputs": [],
   "source": [
    "import sqlite3\n",
    "\n",
    "conn = sqlite3.connect('database/PokerHistory5.db')"
   ]
  },
  {
   "cell_type": "code",
   "execution_count": 2,
   "id": "4d3548e6",
   "metadata": {},
   "outputs": [],
   "source": [
    "import pandas as pd\n",
    "\n",
    "hand = pd.read_csv(\"hand.csv\",encoding='latin-1')\n",
    "poker_table = pd.read_csv(\"poker_table.csv\",encoding='latin-1')\n",
    "player = pd.read_csv(\"player.csv\",encoding='latin-1')\n",
    "play = pd.read_csv(\"play.csv\",encoding='latin-1')"
   ]
  },
  {
   "cell_type": "code",
   "execution_count": 3,
   "id": "8c8497b0",
   "metadata": {},
   "outputs": [],
   "source": [
    "poker_table.to_sql('poker_table_temp', con = conn, index = False)\n",
    "hand.to_sql('hand_temp', con = conn, index = False) \n",
    "player.to_sql('player_temp', con = conn, index = False)\n",
    "play.to_sql('play_temp', con = conn, index = False) "
   ]
  },
  {
   "cell_type": "markdown",
   "id": "0bec3789",
   "metadata": {},
   "source": [
    "## Table creation and data loading\n",
    "Since I wanted to include primary and foreign keys, I have imported the csv files into \"temp\" tables before transferring the data into the final tables complete with keys."
   ]
  },
  {
   "cell_type": "code",
   "execution_count": 4,
   "id": "396af2f9",
   "metadata": {},
   "outputs": [],
   "source": [
    "c = conn.cursor()"
   ]
  },
  {
   "cell_type": "code",
   "execution_count": 5,
   "id": "e6ee0081",
   "metadata": {},
   "outputs": [],
   "source": [
    "creating_poker_table='''\n",
    "CREATE TABLE poker_table (\n",
    "    table_name TEXT PRIMARY KEY,\n",
    "    small_blind INTEGER NOT NULL,\n",
    "    big_blind INTEGER NOT NULL,\n",
    "    table_datetime_start TEXT NOT NULL,\n",
    "    table_duration_estimate TEXT NOT NULL)'''\n",
    "\n",
    "creating_hand='''\n",
    "CREATE TABLE hand (\n",
    "    hand_table_name TEXT NOT NULL,\n",
    "    hand_datetime_start TEXT NOT NULL,\n",
    "    hand_number INTEGER PRIMARY KEY,\n",
    "    number_players INTEGER CHECK(number_players >0 and number_players< 7),\n",
    "    positions TEXT NOT NULL,\n",
    "    winner_main_pot TEXT NOT NULL,\n",
    "    winner_side_pot1 TEXT,\n",
    "    winner_side_pot2 TEXT,\n",
    "    winner_side_pot3 TEXT,\n",
    "    money_main_pot INTEGER NOT NULL,\n",
    "    money_side_pot1 INTEGER,\n",
    "    money_side_pot2 INTEGER,\n",
    "    money_side_pot3 INTEGER,\n",
    "    FOREIGN KEY(hand_table_name) REFERENCES poker_table(table_name))'''\n",
    "\n",
    "creating_player='''\n",
    "CREATE TABLE player (\n",
    "    type TEXT NOT NULL,\n",
    "    hands_recorded INTEGER,\n",
    "    vpip_count INTEGER,\n",
    "    pfr_count INTEGER,\n",
    "    username TEXT PRIMARY KEY)'''\n",
    "\n",
    "creating_play='''\n",
    "CREATE TABLE play (\n",
    "    username_play TEXT NOT NULL,\n",
    "    hand_number_play INTEGER ,\n",
    "    position_play TEXT,\n",
    "    starting_stack INTEGER,\n",
    "    finishing_stack INTEGER,\n",
    "    cards TEXT,\n",
    "    FOREIGN KEY(username_play) REFERENCES player(username),\n",
    "    FOREIGN KEY(hand_number_play) REFERENCES hand(hand_number))'''"
   ]
  },
  {
   "cell_type": "code",
   "execution_count": 6,
   "id": "83ad3fc6",
   "metadata": {},
   "outputs": [],
   "source": [
    "c.execute(creating_poker_table)\n",
    "conn.commit()\n",
    "c.execute(creating_hand)\n",
    "conn.commit()\n",
    "c.execute(creating_player)\n",
    "conn.commit()\n",
    "c.execute(creating_play)\n",
    "conn.commit()"
   ]
  },
  {
   "cell_type": "code",
   "execution_count": 7,
   "id": "840dd4f0",
   "metadata": {},
   "outputs": [],
   "source": [
    "transfer_data_table='''\n",
    "INSERT INTO poker_table\n",
    "SELECT * FROM poker_table_temp\n",
    "'''\n",
    "transfer_data_hand='''\n",
    "INSERT INTO hand\n",
    "SELECT * FROM hand_temp\n",
    "'''\n",
    "transfer_data_player='''\n",
    "INSERT INTO player\n",
    "SELECT * FROM player_temp\n",
    "'''\n",
    "transfer_data_play='''\n",
    "INSERT INTO play\n",
    "SELECT * FROM play_temp\n",
    "'''"
   ]
  },
  {
   "cell_type": "code",
   "execution_count": 8,
   "id": "cf613014",
   "metadata": {},
   "outputs": [],
   "source": [
    "c.execute(transfer_data_table)\n",
    "c.execute(transfer_data_hand)\n",
    "c.execute(transfer_data_player)\n",
    "c.execute(transfer_data_play)\n",
    "c.execute(\"DROP TABLE poker_table_temp\")\n",
    "c.execute(\"DROP TABLE hand_temp\")\n",
    "c.execute(\"DROP TABLE player_temp\")\n",
    "c.execute(\"DROP TABLE play_temp\")\n",
    "conn.commit()"
   ]
  },
  {
   "cell_type": "markdown",
   "id": "5863f296",
   "metadata": {},
   "source": [
    "## Creating a view: player_statistics\n",
    "\n",
    "A useful view for this database is one which shows important player statistics. For example, I have chosen to include the percentage of hands which were VPIP (\"voluntarily put [money] in pot\") and the percentage of hands which were PFR (\"pre-flop raised\") by the player. Finally, I included the sum of the profits made across all recorded hands for each player. "
   ]
  },
  {
   "cell_type": "code",
   "execution_count": 9,
   "id": "11391c9a",
   "metadata": {},
   "outputs": [
    {
     "data": {
      "text/plain": [
       "<sqlite3.Cursor at 0x2c38e452030>"
      ]
     },
     "execution_count": 9,
     "metadata": {},
     "output_type": "execute_result"
    }
   ],
   "source": [
    "creating_view_player_stats='''\n",
    "CREATE VIEW IF NOT EXISTS player_statistics AS\n",
    "SELECT \n",
    "    username, type, hands_recorded, vpip, pfr, profit\n",
    "FROM\n",
    "(SELECT \n",
    "    username,\n",
    "    type, \n",
    "    hands_recorded,\n",
    "    ROUND(CAST( vpip_count AS FLOAT) / CAST(hands_recorded as FLOAT) , 3) AS vpip,\n",
    "    ROUND(CAST( pfr_count AS FLOAT) / CAST(hands_recorded as FLOAT) , 3) AS pfr\n",
    "FROM player) t1 \n",
    "INNER JOIN\n",
    "(SELECT username_play, SUM(finishing_stack-starting_stack) profit\n",
    "FROM play\n",
    "GROUP BY play.username_play) t2\n",
    "ON t1.username = t2.username_play\n",
    "ORDER BY profit DESC\n",
    "'''\n",
    "c.execute(creating_view_player_stats)"
   ]
  },
  {
   "cell_type": "code",
   "execution_count": 10,
   "id": "ecf584f8",
   "metadata": {},
   "outputs": [
    {
     "data": {
      "text/html": [
       "<div>\n",
       "<style scoped>\n",
       "    .dataframe tbody tr th:only-of-type {\n",
       "        vertical-align: middle;\n",
       "    }\n",
       "\n",
       "    .dataframe tbody tr th {\n",
       "        vertical-align: top;\n",
       "    }\n",
       "\n",
       "    .dataframe thead th {\n",
       "        text-align: right;\n",
       "    }\n",
       "</style>\n",
       "<table border=\"1\" class=\"dataframe\">\n",
       "  <thead>\n",
       "    <tr style=\"text-align: right;\">\n",
       "      <th></th>\n",
       "      <th>username</th>\n",
       "      <th>type</th>\n",
       "      <th>hands_recorded</th>\n",
       "      <th>vpip</th>\n",
       "      <th>pfr</th>\n",
       "      <th>profit</th>\n",
       "    </tr>\n",
       "  </thead>\n",
       "  <tbody>\n",
       "    <tr>\n",
       "      <th>0</th>\n",
       "      <td>serioushippo677</td>\n",
       "      <td>hero</td>\n",
       "      <td>229</td>\n",
       "      <td>0.332</td>\n",
       "      <td>0.271</td>\n",
       "      <td>59399</td>\n",
       "    </tr>\n",
       "    <tr>\n",
       "      <th>1</th>\n",
       "      <td>theriver567</td>\n",
       "      <td>villain</td>\n",
       "      <td>17</td>\n",
       "      <td>0.588</td>\n",
       "      <td>0.353</td>\n",
       "      <td>21805</td>\n",
       "    </tr>\n",
       "    <tr>\n",
       "      <th>2</th>\n",
       "      <td>microfaradio 2</td>\n",
       "      <td>villain</td>\n",
       "      <td>11</td>\n",
       "      <td>0.909</td>\n",
       "      <td>0.091</td>\n",
       "      <td>21266</td>\n",
       "    </tr>\n",
       "    <tr>\n",
       "      <th>3</th>\n",
       "      <td>zeppelinsuar</td>\n",
       "      <td>villain</td>\n",
       "      <td>5</td>\n",
       "      <td>1.000</td>\n",
       "      <td>0.000</td>\n",
       "      <td>17577</td>\n",
       "    </tr>\n",
       "    <tr>\n",
       "      <th>4</th>\n",
       "      <td>penny-in-fla</td>\n",
       "      <td>villain</td>\n",
       "      <td>17</td>\n",
       "      <td>0.588</td>\n",
       "      <td>0.000</td>\n",
       "      <td>11066</td>\n",
       "    </tr>\n",
       "    <tr>\n",
       "      <th>...</th>\n",
       "      <td>...</td>\n",
       "      <td>...</td>\n",
       "      <td>...</td>\n",
       "      <td>...</td>\n",
       "      <td>...</td>\n",
       "      <td>...</td>\n",
       "    </tr>\n",
       "    <tr>\n",
       "      <th>93</th>\n",
       "      <td>caro391</td>\n",
       "      <td>villain</td>\n",
       "      <td>9</td>\n",
       "      <td>0.778</td>\n",
       "      <td>0.111</td>\n",
       "      <td>-19950</td>\n",
       "    </tr>\n",
       "    <tr>\n",
       "      <th>94</th>\n",
       "      <td>JGFM81</td>\n",
       "      <td>villain</td>\n",
       "      <td>5</td>\n",
       "      <td>0.600</td>\n",
       "      <td>0.000</td>\n",
       "      <td>-23082</td>\n",
       "    </tr>\n",
       "    <tr>\n",
       "      <th>95</th>\n",
       "      <td>ayogipa8</td>\n",
       "      <td>villain</td>\n",
       "      <td>25</td>\n",
       "      <td>0.680</td>\n",
       "      <td>0.120</td>\n",
       "      <td>-23552</td>\n",
       "    </tr>\n",
       "    <tr>\n",
       "      <th>96</th>\n",
       "      <td>EL FIERA1972</td>\n",
       "      <td>villain</td>\n",
       "      <td>19</td>\n",
       "      <td>0.947</td>\n",
       "      <td>0.158</td>\n",
       "      <td>-27364</td>\n",
       "    </tr>\n",
       "    <tr>\n",
       "      <th>97</th>\n",
       "      <td>ValentinU764</td>\n",
       "      <td>villain</td>\n",
       "      <td>7</td>\n",
       "      <td>0.857</td>\n",
       "      <td>0.857</td>\n",
       "      <td>-28457</td>\n",
       "    </tr>\n",
       "  </tbody>\n",
       "</table>\n",
       "<p>98 rows × 6 columns</p>\n",
       "</div>"
      ],
      "text/plain": [
       "           username     type  hands_recorded   vpip    pfr  profit\n",
       "0   serioushippo677     hero             229  0.332  0.271   59399\n",
       "1       theriver567  villain              17  0.588  0.353   21805\n",
       "2    microfaradio 2  villain              11  0.909  0.091   21266\n",
       "3      zeppelinsuar  villain               5  1.000  0.000   17577\n",
       "4      penny-in-fla  villain              17  0.588  0.000   11066\n",
       "..              ...      ...             ...    ...    ...     ...\n",
       "93          caro391  villain               9  0.778  0.111  -19950\n",
       "94           JGFM81  villain               5  0.600  0.000  -23082\n",
       "95         ayogipa8  villain              25  0.680  0.120  -23552\n",
       "96     EL FIERA1972  villain              19  0.947  0.158  -27364\n",
       "97     ValentinU764  villain               7  0.857  0.857  -28457\n",
       "\n",
       "[98 rows x 6 columns]"
      ]
     },
     "execution_count": 10,
     "metadata": {},
     "output_type": "execute_result"
    }
   ],
   "source": [
    "player_stats=pd.DataFrame(c.execute(\"SELECT * FROM player_statistics\").fetchall(), columns=['username', 'type', 'hands_recorded', 'vpip', 'pfr', 'profit'])\n",
    "player_stats"
   ]
  },
  {
   "cell_type": "markdown",
   "id": "fd5f07e8",
   "metadata": {},
   "source": [
    "## Creating triggers\n",
    "\n",
    "I have created 3 triggers for the purposes of inserting a hand, deleting a hand and deleting a poker table."
   ]
  },
  {
   "cell_type": "code",
   "execution_count": 11,
   "id": "cdd997d1",
   "metadata": {},
   "outputs": [
    {
     "data": {
      "text/plain": [
       "<sqlite3.Cursor at 0x2c38e452030>"
      ]
     },
     "execution_count": 11,
     "metadata": {},
     "output_type": "execute_result"
    }
   ],
   "source": [
    "create_trigger_insert_hand='''\n",
    "CREATE TRIGGER after_insert_hand AFTER INSERT ON hand\n",
    "BEGIN\n",
    "\tINSERT INTO poker_table (table_name, small_blind, big_blind, table_datetime_start,table_duration_estimate)\n",
    "\tVALUES (NEW.hand_table_name, 0,0, NEW.hand_datetime_start, \"0:0:0\");\n",
    "END;'''\n",
    "c.execute(create_trigger_insert_hand)"
   ]
  },
  {
   "cell_type": "code",
   "execution_count": 12,
   "id": "e849ca7c",
   "metadata": {},
   "outputs": [
    {
     "data": {
      "text/plain": [
       "<sqlite3.Cursor at 0x2c38e452030>"
      ]
     },
     "execution_count": 12,
     "metadata": {},
     "output_type": "execute_result"
    }
   ],
   "source": [
    "create_trigger_delete_hand='''\n",
    "CREATE TRIGGER after_delete_hand AFTER DELETE ON hand\n",
    "BEGIN \n",
    "DELETE FROM play WHERE hand_number_play=OLD.hand_number;\n",
    "END;'''\n",
    "c.execute(create_trigger_delete_hand)"
   ]
  },
  {
   "cell_type": "code",
   "execution_count": 13,
   "id": "66a58384",
   "metadata": {},
   "outputs": [
    {
     "data": {
      "text/plain": [
       "<sqlite3.Cursor at 0x2c38e452030>"
      ]
     },
     "execution_count": 13,
     "metadata": {},
     "output_type": "execute_result"
    }
   ],
   "source": [
    "create_trigger_delete_table='''CREATE TRIGGER before_delete_table BEFORE DELETE ON poker_table\n",
    "BEGIN\n",
    "SELECT CASE \n",
    "WHEN (SELECT COUNT(hand_table_name) FROM hand WHERE hand_table_name=OLD.table_name) > 0\n",
    "THEN RAISE(ABORT,\n",
    "'Cannot delete a table from poker_table if exists in hand.')\n",
    "END; \n",
    "END;'''\n",
    "c.execute(create_trigger_delete_table)"
   ]
  },
  {
   "cell_type": "markdown",
   "id": "ccb7d2fb",
   "metadata": {},
   "source": [
    "## Testing and demonstrations of the database"
   ]
  },
  {
   "cell_type": "markdown",
   "id": "01ba045a",
   "metadata": {},
   "source": [
    "### Demonstration of after_insert_hand trigger"
   ]
  },
  {
   "cell_type": "code",
   "execution_count": 14,
   "id": "e4dce8a4",
   "metadata": {},
   "outputs": [
    {
     "name": "stdout",
     "output_type": "stream",
     "text": [
      "[('test table', '2022/12/09 10:27:12', 1234, 2, '{positions}', 'test player', None, None, None, 1000000, None, None, None)]\n",
      "[('test table', 0, 0, '2022/12/09 10:27:12', '0:0:0')]\n"
     ]
    }
   ],
   "source": [
    "insert_hand='''\n",
    "INSERT INTO hand (hand_table_name, hand_datetime_start,hand_number, number_players, positions, winner_main_pot, winner_side_pot1, winner_side_pot2, winner_side_pot3, money_main_pot, money_side_pot1,money_side_pot2, money_side_pot3)\n",
    "VALUES ('test table', '2022/12/09 10:27:12', 1234, 2, '{positions}', 'test player', NULL, NULL, NULL, 1000000, NULL, NULL, NULL);\n",
    "'''\n",
    "c.execute(insert_hand)\n",
    "print(c.execute(\"SELECT * FROM hand WHERE hand_table_name =  'test table'\").fetchall())\n",
    "print(c.execute(\"SELECT * FROM poker_table WHERE table_name =  'test table'\").fetchall())"
   ]
  },
  {
   "cell_type": "markdown",
   "id": "e75ec13a",
   "metadata": {},
   "source": [
    "### Demonstration of after_delete_hand"
   ]
  },
  {
   "cell_type": "code",
   "execution_count": 15,
   "id": "577c5ab6",
   "metadata": {},
   "outputs": [
    {
     "data": {
      "text/plain": [
       "[]"
      ]
     },
     "execution_count": 15,
     "metadata": {},
     "output_type": "execute_result"
    }
   ],
   "source": [
    "c.execute(\"SELECT * FROM play WHERE hand_number_play= 240278772882\").fetchall()"
   ]
  },
  {
   "cell_type": "code",
   "execution_count": 16,
   "id": "91e52b2d",
   "metadata": {},
   "outputs": [
    {
     "data": {
      "text/plain": [
       "[]"
      ]
     },
     "execution_count": 16,
     "metadata": {},
     "output_type": "execute_result"
    }
   ],
   "source": [
    "c.execute(\"DELETE FROM hand WHERE hand_number = 240278772882\")\n",
    "c.execute(\"SELECT * FROM play WHERE hand_number_play= 240278772882\").fetchall()"
   ]
  },
  {
   "cell_type": "markdown",
   "id": "a8ec3367",
   "metadata": {},
   "source": [
    "### Demonstration of before_delete_table"
   ]
  },
  {
   "cell_type": "code",
   "execution_count": 17,
   "id": "c1684673",
   "metadata": {},
   "outputs": [
    {
     "ename": "IntegrityError",
     "evalue": "Cannot delete a table from poker_table if exists in hand.",
     "output_type": "error",
     "traceback": [
      "\u001b[1;31m---------------------------------------------------------------------------\u001b[0m",
      "\u001b[1;31mIntegrityError\u001b[0m                            Traceback (most recent call last)",
      "Cell \u001b[1;32mIn[17], line 1\u001b[0m\n\u001b[1;32m----> 1\u001b[0m \u001b[43mc\u001b[49m\u001b[38;5;241;43m.\u001b[39;49m\u001b[43mexecute\u001b[49m\u001b[43m(\u001b[49m\u001b[38;5;124;43m\"\u001b[39;49m\u001b[38;5;124;43mDELETE FROM poker_table WHERE table_name=\u001b[39;49m\u001b[38;5;124;43m'\u001b[39;49m\u001b[38;5;124;43mtest table\u001b[39;49m\u001b[38;5;124;43m'\u001b[39;49m\u001b[38;5;124;43m;\u001b[39;49m\u001b[38;5;124;43m\"\u001b[39;49m\u001b[43m)\u001b[49m\n",
      "\u001b[1;31mIntegrityError\u001b[0m: Cannot delete a table from poker_table if exists in hand."
     ]
    }
   ],
   "source": [
    "c.execute(\"DELETE FROM poker_table WHERE table_name='test table';\")"
   ]
  },
  {
   "cell_type": "code",
   "execution_count": 18,
   "id": "6f9c2a9c",
   "metadata": {},
   "outputs": [
    {
     "data": {
      "text/plain": [
       "[]"
      ]
     },
     "execution_count": 18,
     "metadata": {},
     "output_type": "execute_result"
    }
   ],
   "source": [
    "c.execute(\"DELETE FROM hand WHERE hand_table_name='test table'\").fetchall()"
   ]
  },
  {
   "cell_type": "code",
   "execution_count": 19,
   "id": "7cd9c607",
   "metadata": {},
   "outputs": [
    {
     "data": {
      "text/plain": [
       "<sqlite3.Cursor at 0x2c38e452030>"
      ]
     },
     "execution_count": 19,
     "metadata": {},
     "output_type": "execute_result"
    }
   ],
   "source": [
    "c.execute(\"DELETE FROM poker_table WHERE table_name='test table';\")"
   ]
  },
  {
   "cell_type": "markdown",
   "id": "f1bc523e",
   "metadata": {},
   "source": [
    "### Displaying the cards 'shown' by a player\n",
    "\n",
    "It is always interesting to see which sorts of hands an opponent tends to play and in which positions. The following is all instances of a player \"showing\" their cards at showdown (note: not all players choose to show cards at showdown)."
   ]
  },
  {
   "cell_type": "code",
   "execution_count": 20,
   "id": "537586e4",
   "metadata": {},
   "outputs": [],
   "source": [
    "query_cards='''\n",
    "SELECT username_play, position_play, cards\n",
    "FROM play\n",
    "WHERE LENGTH(cards)>2\n",
    "ORDER BY play.username_play'''"
   ]
  },
  {
   "cell_type": "code",
   "execution_count": 21,
   "id": "6a57ef00",
   "metadata": {},
   "outputs": [
    {
     "data": {
      "text/plain": [
       "[('1anghel1', 'utg', \"['5d', '8c']\"),\n",
       " ('BadFoxNF637', 'bb', \"['Qd', '5c']\"),\n",
       " ('Bill22gold', 'sb', \"['Ac', '6d']\"),\n",
       " ('Bill22gold', 'btn', \"['Kh', 'Kd']\"),\n",
       " ('Bill22gold', 'bb', \"['Kc', 'Ac']\"),\n",
       " ('Bill22gold', 'mp', \"['Jh', 'Qd']\"),\n",
       " ('BlokkerII', 'sb', \"['Ah', '8d']\"),\n",
       " ('BlokkerII', 'co', \"['7d', '3d']\"),\n",
       " ('BlokkerII', 'sb', \"['As', '2c']\"),\n",
       " ('BlokkerII', 'sb', \"['6c', 'Tc']\"),\n",
       " ('Camila_CC461', 'co', \"['6c', 'Kc']\"),\n",
       " ('Camila_CC461', 'btn', \"['5h', '4h']\"),\n",
       " ('Dr.Smokealot', 'bb', \"['2c', 'Ac']\"),\n",
       " ('DraQ87', 'sb', \"['9d', '3s']\"),\n",
       " ('DraQ87', 'sb', \"['Ks', 'Kd']\"),\n",
       " ('DraQ87', 'utg', \"['9c', 'Ts']\"),\n",
       " ('DraQ87', 'bb', \"['7h', '7d']\"),\n",
       " ('EL FIERA1972', 'btn', \"['8h', '4h']\"),\n",
       " ('EL FIERA1972', 'mp', \"['9h', 'Qh']\"),\n",
       " ('Everclear906', 'sb', \"['Jh', 'Kc']\"),\n",
       " ('Everclear906', 'bb', \"['Tc', 'Qc']\"),\n",
       " ('Everclear906', 'btn', \"['Ah', '9h']\"),\n",
       " ('FKova', 'utg', \"['Kc', 'Ah']\"),\n",
       " ('FastJoker8R3', 'utg', \"['7s', 'Qs']\"),\n",
       " ('Goldbuster1', 'utg', \"['Jd', 'Jh']\"),\n",
       " ('GvMeTheMon1', 'utg', \"['5c', '9c']\"),\n",
       " ('HDGaryD', 'sb', \"['3s', 'Ks']\"),\n",
       " ('HDGaryD', 'sb', \"['Ad', '4d']\"),\n",
       " ('HighAceRQ726', 'mp', \"['Ad', 'Ac']\"),\n",
       " ('HighAceRQ726', 'bb', \"['5h', 'Ks']\"),\n",
       " ('HighAceRQ726', 'utg', \"['8s', '6s']\"),\n",
       " ('HighAceRQ726', 'sb', \"['Kc', 'Jh']\"),\n",
       " ('HighAceRQ726', 'mp', \"['Jd', 'Ac']\"),\n",
       " ('HighAceRQ726', 'bb', \"['8s', '9h']\"),\n",
       " ('HotRockQX957', 'utg', \"['Th', '9s']\"),\n",
       " ('Hydraty', 'btn', \"['Ks', '3d']\"),\n",
       " ('J. Aspitia', 'sb', \"['Kc', '3d']\"),\n",
       " ('J. Aspitia', 'sb', \"['4s', '7d']\"),\n",
       " ('JGFM81', 'bb', \"['Qh', 'Jh']\"),\n",
       " ('Joe F809', 'mp', \"['9s', 'Js']\"),\n",
       " ('Joe F809', 'utg', \"['8s', '5c']\"),\n",
       " ('JoseLuÃ\\xadsJorg', 'utg', \"['6h', 'Td']\"),\n",
       " ('KATITO430', 'utg', \"['9h', 'Jh']\"),\n",
       " ('LeftMyMark', 'sb', \"['9c', '2s']\"),\n",
       " ('LivePokerBU4', 'sb', \"['7h', '4c']\"),\n",
       " ('LuizÃ£o993', 'btn', \"['Jd', 'Ks']\"),\n",
       " ('LuizÃ£o993', 'mp', \"['8c', 'Js']\"),\n",
       " ('LuizÃ£o993', 'utg', \"['7c', 'Ah']\"),\n",
       " ('LuizÃ£o993', 'bb', \"['Th', 'Ad']\"),\n",
       " ('MarilynGordg', 'btn', \"['Td', '9d']\"),\n",
       " ('Mineraljack31', 'mp', \"['Ad', 'Jc']\"),\n",
       " ('NIKI-Z565', 'utg', \"['As', '2d']\"),\n",
       " ('Pino937', 'mp', \"['Ac', '7d']\"),\n",
       " ('Renata RDV', 'utg', \"['3c', 'Qd']\"),\n",
       " ('Renata RDV', 'btn', \"['7s', 'Tc']\"),\n",
       " ('Roga D46', 'utg', \"['Qs', '2s']\"),\n",
       " ('Roga D46', 'btn', \"['Qh', 'Qc']\"),\n",
       " ('Roga D46', 'btn', \"['Td', '4d']\"),\n",
       " ('Satyam63', 'mp', \"['Kh', 'Tc']\"),\n",
       " ('Satyam63', 'utg', \"['4d', 'Ad']\"),\n",
       " ('SlickBet7470', 'utg', \"['5h', 'Ah']\"),\n",
       " ('SlickBet7470', 'sb', \"['Kd', '8s']\"),\n",
       " ('StefanJaros', 'bb', \"['Ts', '8h']\"),\n",
       " ('StefanJaros', 'btn', \"['Qh', '4c']\"),\n",
       " ('Straszyciel', 'btn', \"['5h', '3c']\"),\n",
       " ('Straszyciel', 'btn', \"['7d', '9h']\"),\n",
       " ('TAlexandr2716', 'bb', \"['3s', 'Qh']\"),\n",
       " ('TAlexandr2716', 'sb', \"['7h', 'Kh']\"),\n",
       " ('TAlexandr2716', 'utg', \"['Ad', '3h']\"),\n",
       " ('TAlexandr2716', 'sb', \"['Ac', 'As']\"),\n",
       " ('TAlexandr2716', 'bb', \"['Js', '5d']\"),\n",
       " ('TAlexandr2716', 'sb', \"['4h', '4s']\"),\n",
       " ('TAlexandr2716', 'mp', \"['Jh', 'Kc']\"),\n",
       " ('TAlexandr2716', 'utg', \"['Js', 'As']\"),\n",
       " ('T_RadW', 'mp', \"['Jd', '6d']\"),\n",
       " ('Tapia o_O', 'mp', \"['Th', 'Qd']\"),\n",
       " ('Tapia o_O', 'bb', \"['5h', '6s']\"),\n",
       " ('Tapia o_O', 'sb', \"['4s', '4c']\"),\n",
       " ('Tapia o_O', 'sb', \"['As', '5s']\"),\n",
       " ('Tapia o_O', 'bb', \"['8d', '7h']\"),\n",
       " ('Tavo624', 'sb', \"['3d', '6h']\"),\n",
       " ('Tomate264', 'sb', \"['6c', 'Ah']\"),\n",
       " ('Tomate264', 'bb', \"['6c', 'Tc']\"),\n",
       " ('Tomate264', 'sb', \"['Ts', '3s']\"),\n",
       " ('ValentinU764', 'utg', \"['Qd', '9h']\"),\n",
       " ('ValentinU764', 'bb', \"['2c', 'Ts']\"),\n",
       " ('ValentinU764', 'sb', \"['Js', '8h']\"),\n",
       " ('ValentinU764', 'btn', \"['5d', '9c']\"),\n",
       " ('ValentinU764', 'co', \"['8d', 'Td']\"),\n",
       " ('ValentinU764', 'mp', \"['As', 'Kh']\"),\n",
       " ('al_bandicoot', 'utg', \"['Jd', 'Th']\"),\n",
       " ('anniev54', 'sb', \"['9s', '4s']\"),\n",
       " ('anniev54', 'mp', \"['5d', '6h']\"),\n",
       " ('ayogipa8', 'bb', \"['5h', '3c']\"),\n",
       " ('ayogipa8', 'sb', \"['7d', 'Ks']\"),\n",
       " ('ayogipa8', 'sb', \"['5h', '4h']\"),\n",
       " ('ayogipa8', 'sb', \"['8d', '7c']\"),\n",
       " ('ayogipa8', 'btn', \"['6s', 'Tc']\"),\n",
       " ('ayogipa8', 'utg', \"['7s', 'Td']\"),\n",
       " ('ayogipa8', 'btn', \"['Ad', 'Td']\"),\n",
       " ('ayogipa8', 'mp', \"['4s', 'Ah']\"),\n",
       " ('bagrones', 'btn', \"['5h', '8h']\"),\n",
       " ('bagrones', 'mp', \"['9c', '2d']\"),\n",
       " ('bagrones', 'btn', \"['Qd', 'Qs']\"),\n",
       " ('bagrones', 'mp', \"['Kc', '6c']\"),\n",
       " ('bagrones', 'bb', \"['Ac', 'Kc']\"),\n",
       " ('bagrones', 'mp', \"['9h', 'Js']\"),\n",
       " ('bagrones', 'sb', \"['Td', '8h']\"),\n",
       " ('bagrones', 'btn', \"['Ah', 'Td']\"),\n",
       " ('bagrones', 'bb', \"['Jd', 'Td']\"),\n",
       " ('barros1258', 'co', \"['5d', 'Qs']\"),\n",
       " ('betocasagrande', 'bb', \"['Jh', 'Jc']\"),\n",
       " ('caro391', 'btn', \"['7s', 'As']\"),\n",
       " ('caro391', 'co', \"['Ad', '3d']\"),\n",
       " ('caro391', 'mp', \"['6h', '6c']\"),\n",
       " ('caro391', 'sb', \"['8d', '9c']\"),\n",
       " ('caro391', 'utg', \"['Td', '6d']\"),\n",
       " ('caro391', 'bb', \"['Ks', 'Qh']\"),\n",
       " ('caro391', 'btn', \"['Qh', '5h']\"),\n",
       " ('fppat', 'bb', \"['Qs', '5c']\"),\n",
       " ('fppat', 'bb', \"['3h', 'Jh']\"),\n",
       " ('gregorio731', 'bb', \"['Ks', 'Td']\"),\n",
       " ('gregorio731', 'sb', \"['Jd', 'Jh']\"),\n",
       " ('gregorio731', 'btn', \"['Jd', '7s']\"),\n",
       " ('hacke-fire', 'utg', \"['Td', 'Kd']\"),\n",
       " ('hacke-fire', 'sb', \"['8c', '8d']\"),\n",
       " ('hacke-fire', 'btn', \"['8h', 'Ah']\"),\n",
       " ('ionilie123', 'sb', \"['Jh', '9c']\"),\n",
       " ('ionilie123', 'btn', \"['5d', '4s']\"),\n",
       " ('ionilie123', 'sb', \"['Jd', 'Jc']\"),\n",
       " ('ionilie123', 'co', \"['8d', 'Tc']\"),\n",
       " ('ionilie123', 'mp', \"['6d', '9s']\"),\n",
       " ('ionilie123', 'utg', \"['Jc', 'Ah']\"),\n",
       " ('ionilie123', 'sb', \"['Ad', '2d']\"),\n",
       " ('jamivicente', 'bb', \"['6h', '5c']\"),\n",
       " ('jamivicente', 'sb', \"['8d', '9s']\"),\n",
       " ('jamivicente', 'btn', \"['9s', '7c']\"),\n",
       " ('jamivicente', 'co', \"['8c', '4s']\"),\n",
       " ('jamivicente', 'bb', \"['Kh', 'Qc']\"),\n",
       " ('judini777777', 'utg', \"['3d', '8d']\"),\n",
       " ('judini777777', 'utg', \"['2s', '5h']\"),\n",
       " ('judini777777', 'bb', \"['Kh', 'Kd']\"),\n",
       " ('judini777777', 'sb', \"['Td', '3h']\"),\n",
       " ('judini777777', 'bb', \"['6d', '7s']\"),\n",
       " ('judini777777', 'sb', \"['8s', '8c']\"),\n",
       " ('katya.dizain', 'sb', \"['6h', 'Qh']\"),\n",
       " ('katya.dizain', 'bb', \"['Ts', 'Qh']\"),\n",
       " ('luybezniy28', 'mp', \"['9s', '8d']\"),\n",
       " ('luybezniy28', 'bb', \"['2s', 'Td']\"),\n",
       " ('luybezniy28', 'btn', \"['Tc', '6h']\"),\n",
       " ('luybezniy28', 'utg', \"['3d', '5d']\"),\n",
       " ('luybezniy28', 'bb', \"['6c', 'Ah']\"),\n",
       " ('luybezniy28', 'sb', \"['7s', '3s']\"),\n",
       " ('madobabette', 'mp', \"['Tc', 'Kd']\"),\n",
       " ('madobabette', 'utg', \"['Ah', 'Th']\"),\n",
       " ('marire63', 'bb', \"['9c', '9h']\"),\n",
       " ('marire63', 'btn', \"['Ks', 'Kh']\"),\n",
       " ('marire63', 'bb', \"['Kh', '2c']\"),\n",
       " ('microfaradio 2', 'btn', \"['4c', '9h']\"),\n",
       " ('microfaradio 2', 'co', \"['Td', '4d']\"),\n",
       " ('microfaradio 2', 'sb', \"['7c', '2h']\"),\n",
       " ('microfaradio 2', 'bb', \"['8d', 'Th']\"),\n",
       " ('mihran6971', 'sb', \"['Ah', '6c']\"),\n",
       " ('mihran6971', 'sb', \"['4c', '3c']\"),\n",
       " ('mikimaus221', 'sb', \"['Ah', 'Tc']\"),\n",
       " ('mikimaus221', 'btn', \"['Kc', '9d']\"),\n",
       " ('momotic', 'btn', \"['3c', '3d']\"),\n",
       " ('noyara', 'sb', \"['6h', '2s']\"),\n",
       " ('ocsi888888', 'mp', \"['Kc', '9s']\"),\n",
       " ('papa372', 'bb', \"['As', '7s']\"),\n",
       " ('paulo cÃ©s123', 'btn', \"['Jh', '8s']\"),\n",
       " ('paulo cÃ©s123', 'utg', \"['5h', '6s']\"),\n",
       " ('penny-in-fla', 'btn', \"['Ah', '9c']\"),\n",
       " ('pico516', 'btn', \"['Ad', '9s']\"),\n",
       " ('pico516', 'mp', \"['8s', 'Kc']\"),\n",
       " ('pikquik', 'sb', \"['2s', '8c']\"),\n",
       " ('pikquik', 'co', \"['Ks', '9h']\"),\n",
       " ('pikquik', 'utg', \"['Jd', '6d']\"),\n",
       " ('pikquik', 'sb', \"['3c', 'Th']\"),\n",
       " ('pinask', 'sb', \"['5d', '5s']\"),\n",
       " ('rwilliams348', 'co', \"['Jd', 'Jc']\"),\n",
       " ('rwilliams348', 'mp', \"['Jc', 'Td']\"),\n",
       " ('rwilliams348', 'bb', \"['2c', '3h']\"),\n",
       " ('rwilliams348', 'bb', \"['3c', '3d']\"),\n",
       " ('rwilliams348', 'sb', \"['3d', 'Kh']\"),\n",
       " ('rwilliams348', 'mp', \"['6s', '4s']\"),\n",
       " ('rwilliams348', 'btn', \"['Ts', 'As']\"),\n",
       " ('rwilliams348', 'mp', \"['6c', 'Td']\"),\n",
       " ('rwilliams348', 'sb', \"['Kh', 'Jc']\"),\n",
       " ('scraps2211', 'mp', \"['Th', 'Kc']\"),\n",
       " ('serioushippo677', 'mp', \"['4s', 'Ad']\"),\n",
       " ('serioushippo677', 'bb', \"['5s', 'Qd']\"),\n",
       " ('serioushippo677', 'sb', \"['Js', 'Jc']\"),\n",
       " ('serioushippo677', 'btn', \"['9h', 'Th']\"),\n",
       " ('serioushippo677', 'bb', \"['Kh', '2c']\"),\n",
       " ('serioushippo677', 'co', \"['Ts', 'Ad']\"),\n",
       " ('serioushippo677', 'bb', \"['Ac', '9s']\"),\n",
       " ('serioushippo677', 'sb', \"['9c', '9d']\"),\n",
       " ('serioushippo677', 'bb', \"['5s', '5h']\"),\n",
       " ('serioushippo677', 'sb', \"['Ks', 'Qh']\"),\n",
       " ('serioushippo677', 'sb', \"['7c', 'As']\"),\n",
       " ('serioushippo677', 'mp', \"['Jd', '9h']\"),\n",
       " ('serioushippo677', 'mp', \"['Ac', '3h']\"),\n",
       " ('serioushippo677', 'bb', \"['Ac', '7h']\"),\n",
       " ('serioushippo677', 'sb', \"['As', '7s']\"),\n",
       " ('serioushippo677', 'utg', \"['Tc', 'Td']\"),\n",
       " ('serioushippo677', 'btn', \"['Jd', 'Js']\"),\n",
       " ('serioushippo677', 'btn', \"['Qd', 'Ac']\"),\n",
       " ('serioushippo677', 'mp', \"['Qh', '9h']\"),\n",
       " ('serioushippo677', 'bb', \"['Jc', '2s']\"),\n",
       " ('serioushippo677', 'bb', \"['4d', '3c']\"),\n",
       " ('serioushippo677', 'btn', \"['8s', 'Ac']\"),\n",
       " ('serioushippo677', 'bb', \"['As', 'Ts']\"),\n",
       " ('serioushippo677', 'btn', \"['Ts', 'Tc']\"),\n",
       " ('serioushippo677', 'utg', \"['Jh', 'Ks']\"),\n",
       " ('serioushippo677', 'sb', \"['6s', 'Ah']\"),\n",
       " ('serioushippo677', 'co', \"['Qs', 'Ac']\"),\n",
       " ('serioushippo677', 'sb', \"['Qh', 'Kd']\"),\n",
       " ('serioushippo677', 'btn', \"['Ah', 'As']\"),\n",
       " ('stack4meall', 'mp', \"['Kc', 'Jc']\"),\n",
       " ('theriver567', 'utg', \"['Kd', 'Ad']\"),\n",
       " ('theriver567', 'btn', \"['Qs', 'Ad']\"),\n",
       " ('victorgau', 'utg', \"['3d', '4s']\"),\n",
       " ('victorgau', 'mp', \"['7h', 'Kh']\"),\n",
       " ('victorgau', 'bb', \"['6c', '7c']\"),\n",
       " ('victorgau', 'co', \"['6h', 'As']\"),\n",
       " ('zeppelinsuar', 'sb', \"['Ah', '8d']\")]"
      ]
     },
     "execution_count": 21,
     "metadata": {},
     "output_type": "execute_result"
    }
   ],
   "source": [
    "c.execute(query_cards).fetchall()"
   ]
  },
  {
   "cell_type": "markdown",
   "id": "c47d081e",
   "metadata": {},
   "source": [
    "It is also interesting to see which hands a player wins with."
   ]
  },
  {
   "cell_type": "code",
   "execution_count": 22,
   "id": "85b92fb5",
   "metadata": {},
   "outputs": [],
   "source": [
    "query_cards_winner='''\n",
    "SELECT username_play, position_play, cards\n",
    "FROM play\n",
    "WHERE LENGTH(cards)>2 AND username_play=(SELECT winner_main_pot FROM hand WHERE play.hand_number_play=hand.hand_number)\n",
    "ORDER BY play.username_play'''"
   ]
  },
  {
   "cell_type": "code",
   "execution_count": 23,
   "id": "f5ebce93",
   "metadata": {
    "scrolled": true
   },
   "outputs": [
    {
     "data": {
      "text/plain": [
       "[('Bill22gold', 'sb', \"['Ac', '6d']\"),\n",
       " ('Bill22gold', 'btn', \"['Kh', 'Kd']\"),\n",
       " ('Bill22gold', 'bb', \"['Kc', 'Ac']\"),\n",
       " ('Bill22gold', 'mp', \"['Jh', 'Qd']\"),\n",
       " ('BlokkerII', 'sb', \"['Ah', '8d']\"),\n",
       " ('BlokkerII', 'sb', \"['6c', 'Tc']\"),\n",
       " ('Camila_CC461', 'co', \"['6c', 'Kc']\"),\n",
       " ('DraQ87', 'sb', \"['9d', '3s']\"),\n",
       " ('DraQ87', 'sb', \"['Ks', 'Kd']\"),\n",
       " ('DraQ87', 'utg', \"['9c', 'Ts']\"),\n",
       " ('Everclear906', 'sb', \"['Jh', 'Kc']\"),\n",
       " ('Everclear906', 'btn', \"['Ah', '9h']\"),\n",
       " ('FastJoker8R3', 'utg', \"['7s', 'Qs']\"),\n",
       " ('Goldbuster1', 'utg', \"['Jd', 'Jh']\"),\n",
       " ('HDGaryD', 'sb', \"['3s', 'Ks']\"),\n",
       " ('HighAceRQ726', 'bb', \"['5h', 'Ks']\"),\n",
       " ('HighAceRQ726', 'utg', \"['8s', '6s']\"),\n",
       " ('Hydraty', 'btn', \"['Ks', '3d']\"),\n",
       " ('Joe F809', 'mp', \"['9s', 'Js']\"),\n",
       " ('KATITO430', 'utg', \"['9h', 'Jh']\"),\n",
       " ('LuizÃ£o993', 'mp', \"['8c', 'Js']\"),\n",
       " ('LuizÃ£o993', 'utg', \"['7c', 'Ah']\"),\n",
       " ('NIKI-Z565', 'utg', \"['As', '2d']\"),\n",
       " ('Renata RDV', 'utg', \"['3c', 'Qd']\"),\n",
       " ('Renata RDV', 'btn', \"['7s', 'Tc']\"),\n",
       " ('Roga D46', 'utg', \"['Qs', '2s']\"),\n",
       " ('Roga D46', 'btn', \"['Qh', 'Qc']\"),\n",
       " ('Roga D46', 'btn', \"['Td', '4d']\"),\n",
       " ('StefanJaros', 'btn', \"['Qh', '4c']\"),\n",
       " ('Straszyciel', 'btn', \"['5h', '3c']\"),\n",
       " ('Straszyciel', 'btn', \"['7d', '9h']\"),\n",
       " ('TAlexandr2716', 'bb', \"['3s', 'Qh']\"),\n",
       " ('TAlexandr2716', 'sb', \"['7h', 'Kh']\"),\n",
       " ('TAlexandr2716', 'utg', \"['Ad', '3h']\"),\n",
       " ('TAlexandr2716', 'sb', \"['Ac', 'As']\"),\n",
       " ('TAlexandr2716', 'mp', \"['Jh', 'Kc']\"),\n",
       " ('TAlexandr2716', 'utg', \"['Js', 'As']\"),\n",
       " ('T_RadW', 'mp', \"['Jd', '6d']\"),\n",
       " ('Tapia o_O', 'mp', \"['Th', 'Qd']\"),\n",
       " ('Tapia o_O', 'bb', \"['5h', '6s']\"),\n",
       " ('Tapia o_O', 'sb', \"['4s', '4c']\"),\n",
       " ('Tapia o_O', 'sb', \"['As', '5s']\"),\n",
       " ('Tomate264', 'sb', \"['Ts', '3s']\"),\n",
       " ('ValentinU764', 'mp', \"['As', 'Kh']\"),\n",
       " ('al_bandicoot', 'utg', \"['Jd', 'Th']\"),\n",
       " ('anniev54', 'sb', \"['9s', '4s']\"),\n",
       " ('anniev54', 'mp', \"['5d', '6h']\"),\n",
       " ('ayogipa8', 'sb', \"['7d', 'Ks']\"),\n",
       " ('ayogipa8', 'mp', \"['4s', 'Ah']\"),\n",
       " ('bagrones', 'btn', \"['5h', '8h']\"),\n",
       " ('bagrones', 'mp', \"['9c', '2d']\"),\n",
       " ('bagrones', 'btn', \"['Qd', 'Qs']\"),\n",
       " ('bagrones', 'mp', \"['Kc', '6c']\"),\n",
       " ('bagrones', 'bb', \"['Ac', 'Kc']\"),\n",
       " ('bagrones', 'mp', \"['9h', 'Js']\"),\n",
       " ('bagrones', 'sb', \"['Td', '8h']\"),\n",
       " ('bagrones', 'btn', \"['Ah', 'Td']\"),\n",
       " ('barros1258', 'co', \"['5d', 'Qs']\"),\n",
       " ('betocasagrande', 'bb', \"['Jh', 'Jc']\"),\n",
       " ('caro391', 'co', \"['Ad', '3d']\"),\n",
       " ('caro391', 'bb', \"['Ks', 'Qh']\"),\n",
       " ('gregorio731', 'sb', \"['Jd', 'Jh']\"),\n",
       " ('hacke-fire', 'utg', \"['Td', 'Kd']\"),\n",
       " ('hacke-fire', 'sb', \"['8c', '8d']\"),\n",
       " ('ionilie123', 'sb', \"['Jh', '9c']\"),\n",
       " ('ionilie123', 'btn', \"['5d', '4s']\"),\n",
       " ('ionilie123', 'sb', \"['Jd', 'Jc']\"),\n",
       " ('ionilie123', 'co', \"['8d', 'Tc']\"),\n",
       " ('ionilie123', 'mp', \"['6d', '9s']\"),\n",
       " ('ionilie123', 'sb', \"['Ad', '2d']\"),\n",
       " ('jamivicente', 'sb', \"['8d', '9s']\"),\n",
       " ('jamivicente', 'btn', \"['9s', '7c']\"),\n",
       " ('jamivicente', 'co', \"['8c', '4s']\"),\n",
       " ('jamivicente', 'bb', \"['Kh', 'Qc']\"),\n",
       " ('judini777777', 'bb', \"['Kh', 'Kd']\"),\n",
       " ('judini777777', 'sb', \"['8s', '8c']\"),\n",
       " ('katya.dizain', 'sb', \"['6h', 'Qh']\"),\n",
       " ('luybezniy28', 'mp', \"['9s', '8d']\"),\n",
       " ('luybezniy28', 'bb', \"['2s', 'Td']\"),\n",
       " ('luybezniy28', 'btn', \"['Tc', '6h']\"),\n",
       " ('madobabette', 'utg', \"['Ah', 'Th']\"),\n",
       " ('marire63', 'btn', \"['Ks', 'Kh']\"),\n",
       " ('marire63', 'bb', \"['Kh', '2c']\"),\n",
       " ('microfaradio 2', 'bb', \"['8d', 'Th']\"),\n",
       " ('mihran6971', 'sb', \"['Ah', '6c']\"),\n",
       " ('mihran6971', 'sb', \"['4c', '3c']\"),\n",
       " ('mikimaus221', 'sb', \"['Ah', 'Tc']\"),\n",
       " ('mikimaus221', 'btn', \"['Kc', '9d']\"),\n",
       " ('noyara', 'sb', \"['6h', '2s']\"),\n",
       " ('ocsi888888', 'mp', \"['Kc', '9s']\"),\n",
       " ('paulo cÃ©s123', 'btn', \"['Jh', '8s']\"),\n",
       " ('paulo cÃ©s123', 'utg', \"['5h', '6s']\"),\n",
       " ('penny-in-fla', 'btn', \"['Ah', '9c']\"),\n",
       " ('pico516', 'btn', \"['Ad', '9s']\"),\n",
       " ('pikquik', 'sb', \"['2s', '8c']\"),\n",
       " ('pikquik', 'utg', \"['Jd', '6d']\"),\n",
       " ('pinask', 'sb', \"['5d', '5s']\"),\n",
       " ('rwilliams348', 'co', \"['Jd', 'Jc']\"),\n",
       " ('rwilliams348', 'mp', \"['Jc', 'Td']\"),\n",
       " ('rwilliams348', 'bb', \"['3c', '3d']\"),\n",
       " ('rwilliams348', 'sb', \"['3d', 'Kh']\"),\n",
       " ('rwilliams348', 'btn', \"['Ts', 'As']\"),\n",
       " ('rwilliams348', 'mp', \"['6c', 'Td']\"),\n",
       " ('rwilliams348', 'sb', \"['Kh', 'Jc']\"),\n",
       " ('serioushippo677', 'mp', \"['4s', 'Ad']\"),\n",
       " ('serioushippo677', 'bb', \"['5s', 'Qd']\"),\n",
       " ('serioushippo677', 'sb', \"['Js', 'Jc']\"),\n",
       " ('serioushippo677', 'btn', \"['9h', 'Th']\"),\n",
       " ('serioushippo677', 'bb', \"['Kh', '2c']\"),\n",
       " ('serioushippo677', 'co', \"['Ts', 'Ad']\"),\n",
       " ('serioushippo677', 'sb', \"['9c', '9d']\"),\n",
       " ('serioushippo677', 'sb', \"['Ks', 'Qh']\"),\n",
       " ('serioushippo677', 'mp', \"['Jd', '9h']\"),\n",
       " ('serioushippo677', 'mp', \"['Ac', '3h']\"),\n",
       " ('serioushippo677', 'sb', \"['As', '7s']\"),\n",
       " ('serioushippo677', 'utg', \"['Tc', 'Td']\"),\n",
       " ('serioushippo677', 'btn', \"['Jd', 'Js']\"),\n",
       " ('serioushippo677', 'btn', \"['Qd', 'Ac']\"),\n",
       " ('serioushippo677', 'btn', \"['8s', 'Ac']\"),\n",
       " ('serioushippo677', 'bb', \"['As', 'Ts']\"),\n",
       " ('serioushippo677', 'btn', \"['Ts', 'Tc']\"),\n",
       " ('serioushippo677', 'utg', \"['Jh', 'Ks']\"),\n",
       " ('serioushippo677', 'sb', \"['Qh', 'Kd']\"),\n",
       " ('serioushippo677', 'btn', \"['Ah', 'As']\"),\n",
       " ('theriver567', 'utg', \"['Kd', 'Ad']\"),\n",
       " ('theriver567', 'btn', \"['Qs', 'Ad']\"),\n",
       " ('victorgau', 'co', \"['6h', 'As']\"),\n",
       " ('zeppelinsuar', 'sb', \"['Ah', '8d']\")]"
      ]
     },
     "execution_count": 23,
     "metadata": {},
     "output_type": "execute_result"
    }
   ],
   "source": [
    "c.execute(query_cards_winner).fetchall()"
   ]
  },
  {
   "cell_type": "markdown",
   "id": "6bf38a87",
   "metadata": {},
   "source": [
    "### Showing the profit of a player\n",
    "\n",
    "The database user may also want to be able to track their profits and the profits of other players. The following queries select the player with the maximum profit in the player_statistics view, the profits of each hand, and the hero and the hero's profits in each hand. "
   ]
  },
  {
   "cell_type": "code",
   "execution_count": 24,
   "id": "feb77941",
   "metadata": {},
   "outputs": [],
   "source": [
    "player_max_profit='''\n",
    "SELECT username FROM player_statistics WHERE profit = (SELECT MAX(profit) FROM player_statistics)\n",
    "'''\n",
    "query_max_profit='''\n",
    "SELECT (finishing_stack-starting_stack)\n",
    "FROM play\n",
    "WHERE play.username_play= (SELECT username FROM player_statistics WHERE profit = (SELECT MAX(profit) FROM player_statistics))\n",
    "GROUP BY (play.hand_number_play)'''\n",
    "\n",
    "player_hero='''\n",
    "SELECT username FROM player WHERE type=\"hero\"\n",
    "'''\n",
    "query_hero_profit='''\n",
    "SELECT (finishing_stack-starting_stack)\n",
    "FROM play\n",
    "WHERE play.username_play=(SELECT username FROM player WHERE type=\"hero\")\n",
    "ORDER BY (play.hand_number_play)\n",
    "'''"
   ]
  },
  {
   "cell_type": "markdown",
   "id": "9c330b6f",
   "metadata": {},
   "source": [
    "These queries enable the database user to plot the profit of the \"hero\" and the player with the largest amount of profit recorded in the database, as demonstrated below."
   ]
  },
  {
   "cell_type": "code",
   "execution_count": 25,
   "id": "edcd04c0",
   "metadata": {},
   "outputs": [],
   "source": [
    "import numpy as np\n",
    "from matplotlib import pyplot as plt\n",
    "\n",
    "def plot_profit(query, player):\n",
    "    query=c.execute(query).fetchall()\n",
    "    player=c.execute(player).fetchall()[0][0]\n",
    "    profit=[i[0] for i in query]\n",
    "    profit.insert(0,0)\n",
    "    profit_total=list(np.cumsum(profit))\n",
    "    plt.plot(profit_total)\n",
    "    plt.xlabel(\"Hands\")\n",
    "    plt.ylabel(\"Profit\")\n",
    "    plt.title(\"Total profit across recorded poker hands for \"+player);"
   ]
  },
  {
   "cell_type": "code",
   "execution_count": 26,
   "id": "ceb10597",
   "metadata": {},
   "outputs": [
    {
     "data": {
      "image/png": "[encoded data removed]",
      "text/plain": [
       "<Figure size 640x480 with 1 Axes>"
      ]
     },
     "metadata": {},
     "output_type": "display_data"
    }
   ],
   "source": [
    "plot_profit(query_max_profit, player_max_profit)"
   ]
  },
  {
   "cell_type": "code",
   "execution_count": 27,
   "id": "f88c414d",
   "metadata": {},
   "outputs": [
    {
     "data": {
      "image/png": "[encoded data removed]",
      "text/plain": [
       "<Figure size 640x480 with 1 Axes>"
      ]
     },
     "metadata": {},
     "output_type": "display_data"
    }
   ],
   "source": [
    "plot_profit(query_hero_profit,player_hero)"
   ]
  },
  {
   "cell_type": "code",
   "execution_count": null,
   "id": "79a83172",
   "metadata": {},
   "outputs": [],
   "source": []
  }
 ],
 "metadata": {
  "kernelspec": {
   "display_name": "Python 3 (ipykernel)",
   "language": "python",
   "name": "python3"
  },
  "language_info": {
   "codemirror_mode": {
    "name": "ipython",
    "version": 3
   },
   "file_extension": ".py",
   "mimetype": "text/x-python",
   "name": "python",
   "nbconvert_exporter": "python",
   "pygments_lexer": "ipython3",
   "version": "3.8.8"
  }
 },
 "nbformat": 4,
 "nbformat_minor": 5
}
