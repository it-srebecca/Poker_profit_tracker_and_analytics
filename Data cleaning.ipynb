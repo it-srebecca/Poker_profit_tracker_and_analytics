{
 "cells": [
  {
   "cell_type": "markdown",
   "id": "e8660f6a",
   "metadata": {},
   "source": [
    "# Cleaning the data\n",
    "This document demonstrates how I used my functions from data_processing to compile the textual data into usable csv files."
   ]
  },
  {
   "cell_type": "code",
   "execution_count": 43,
   "id": "8a18516d",
   "metadata": {},
   "outputs": [],
   "source": [
    "import os\n",
    "import re\n",
    "import pandas as pd\n",
    "import numpy as np\n",
    "import matplotlib.pyplot as plt\n",
    "import seaborn as sns\n",
    "import datetime as datetime\n",
    "from datetime import datetime\n",
    "import regex\n",
    "\n",
    "from data_processing import find_hands, table_session_data, hand_data, player_data_update, player_data, end_stack, play_data"
   ]
  },
  {
   "cell_type": "markdown",
   "id": "4f2fcb37",
   "metadata": {},
   "source": [
    "#### First, I compiled the seperate files downloaded from PokerStars account into one string. Then I use the find_hands function to divide this string into a list of hands."
   ]
  },
  {
   "cell_type": "code",
   "execution_count": 44,
   "id": "5bd7d123",
   "metadata": {},
   "outputs": [],
   "source": [
    "path = 'PokerHistoryFiles'\n",
    "files = os.listdir(path)\n",
    "\n",
    "table_hands=[]\n",
    "\n",
    "for file in files:\n",
    "    hands=[]\n",
    "    if os.path.isfile(os.path.join(path, file)):\n",
    "        f = open(os.path.join(path, file),'r')\n",
    "        with f as file:\n",
    "            for line in file:\n",
    "                hands.append(line) \n",
    "            table_hands.append(hands)"
   ]
  },
  {
   "cell_type": "code",
   "execution_count": 45,
   "id": "46061885",
   "metadata": {},
   "outputs": [],
   "source": [
    "table_hands_lists=[]\n",
    "\n",
    "for j in range(len(table_hands)):\n",
    "    hands=table_hands[j]\n",
    "    start=[]\n",
    "    hands_lists=[]\n",
    "    for i in range(len(hands)):\n",
    "        if find_hands(hands[i])==True:\n",
    "            start.append(i)\n",
    "    for i in range(len(start)-1):\n",
    "        hands_lists.append(hands[start[i]:start[i+1]-3])\n",
    "    hands_lists.append(hands[start[-1]:-3])\n",
    "    table_hands_lists.append(hands_lists)"
   ]
  },
  {
   "cell_type": "markdown",
   "id": "dedd3eb9",
   "metadata": {},
   "source": [
    "#### This is an example of a hand."
   ]
  },
  {
   "cell_type": "code",
   "execution_count": 46,
   "id": "1e308131",
   "metadata": {},
   "outputs": [
    {
     "data": {
      "text/plain": [
       "[\"ï»¿PokerStars Hand #240332455400:  Hold'em No Limit (50/100) - 2022/12/08 12:19:13 CUST [2022/12/08 6:19:13 ET]\\n\",\n",
       " \"Table 'Crescentia' 6-max (Play Money) Seat #2 is the button\\n\",\n",
       " 'Seat 1: SickHooksJ88 (10000 in chips) \\n',\n",
       " 'Seat 2: 44dÃ©dÃ© (21894 in chips) \\n',\n",
       " 'Seat 3: mwm 013 (4553 in chips) \\n',\n",
       " 'Seat 4: 333albi (4000 in chips) \\n',\n",
       " 'Seat 5: serioushippo677 (10000 in chips) \\n',\n",
       " 'mwm 013: posts small blind 50\\n',\n",
       " '333albi: posts big blind 100\\n',\n",
       " 'serioushippo677: posts big blind 100\\n',\n",
       " 'SickHooksJ88: posts big blind 100\\n',\n",
       " '*** HOLE CARDS ***\\n',\n",
       " 'Dealt to serioushippo677 [Ad Td]\\n',\n",
       " 'serioushippo677: checks \\n',\n",
       " 'SickHooksJ88: raises 400 to 500\\n',\n",
       " '44dÃ©dÃ©: folds \\n',\n",
       " 'mwm 013: calls 450\\n',\n",
       " '333albi: folds \\n',\n",
       " 'HighFoxBM598 leaves the table\\n',\n",
       " 'serioushippo677: calls 400\\n',\n",
       " '*** FLOP *** [6d 6h As]\\n',\n",
       " '333albi leaves the table\\n',\n",
       " 'mwm 013: checks \\n',\n",
       " 'serioushippo677: checks \\n',\n",
       " 'SickHooksJ88: bets 2800\\n',\n",
       " 'mwm 013: folds \\n',\n",
       " 'serioushippo677: folds \\n',\n",
       " 'Uncalled bet (2800) returned to SickHooksJ88\\n',\n",
       " 'SickHooksJ88 collected 1512 from pot\\n',\n",
       " '*** SUMMARY ***\\n',\n",
       " 'Total pot 1600 | Rake 88 \\n',\n",
       " 'Board [6d 6h As]\\n',\n",
       " 'Seat 1: SickHooksJ88 collected (1512)\\n',\n",
       " \"Seat 2: 44dÃ©dÃ© (button) folded before Flop (didn't bet)\\n\",\n",
       " 'Seat 3: mwm 013 (small blind) folded on the Flop\\n',\n",
       " 'Seat 4: 333albi (big blind) folded before Flop\\n',\n",
       " 'Seat 5: serioushippo677 folded on the Flop\\n']"
      ]
     },
     "execution_count": 46,
     "metadata": {},
     "output_type": "execute_result"
    }
   ],
   "source": [
    "table_hands_lists[0][0]"
   ]
  },
  {
   "cell_type": "markdown",
   "id": "cdd4848d",
   "metadata": {},
   "source": [
    "#### This is the information I wanted to extract: the table information, hand information, player attributes and statistics and information about how a player plays a hand."
   ]
  },
  {
   "cell_type": "code",
   "execution_count": 47,
   "id": "1ce4546e",
   "metadata": {},
   "outputs": [],
   "source": [
    "table_session_information = [\"table_name\", \"small_blind\", \"big_blind\", \"table_datetime_start\", \"table_duration_estimate\"]\n",
    "\n",
    "hand_information = [\"hand_table_name\", \"hand_datetime_start\", \"hand_number\", \"number_players\", \"positions\", \"winner_main_pot\", \"winner_side_pot1\", \"winner_side_pot2\", \"winner_side_pot3\", \"money_main_pot\", \"money_side_pot1\", \"money_side_pot2\", \"money_side_pot3\"]\n",
    "\n",
    "player_information = [\"type\", \"hands_recorded\", \"vpip_count\", \"pfr_count\",\"username\"]\n",
    "\n",
    "play_information = [\"username_play\", \"hand_number_play\",\"position_play\", \"starting_stack\", \"finishing_stack\", \"cards\"]"
   ]
  },
  {
   "cell_type": "markdown",
   "id": "e3911bf5",
   "metadata": {},
   "source": [
    "#### Here I extract the table information."
   ]
  },
  {
   "cell_type": "code",
   "execution_count": 48,
   "id": "bda44cdb",
   "metadata": {},
   "outputs": [],
   "source": [
    "table_session_info=[]\n",
    "for i in range(len(table_hands_lists)):\n",
    "    table_dictionary=dict(zip(table_session_information, table_session_data(table_hands_lists[i])))\n",
    "    table_session_info.append(table_dictionary)\n",
    "\n",
    "# Compiling table_session_info into a list of dictionaries about each table\n",
    "\n",
    "table_info=[table_session_info[0]]\n",
    "for i in range(1,len(table_session_info)):\n",
    "    if table_session_info[i][\"table_name\"] in [dictionary[\"table_name\"] for dictionary in table_info]:\n",
    "        table_info[j][\"table_datetime_start\"].append(table_session_info[i][\"table_datetime_start\"])\n",
    "        table_info[j][\"table_duration_estimate\"].append(table_session_info[i][\"table_duration_estimate\"])\n",
    "    else:\n",
    "        table_info.append(table_session_info[i])"
   ]
  },
  {
   "cell_type": "markdown",
   "id": "13c21b81",
   "metadata": {},
   "source": [
    "#### Here I extract the hand information."
   ]
  },
  {
   "cell_type": "code",
   "execution_count": 49,
   "id": "8f32a675",
   "metadata": {},
   "outputs": [],
   "source": [
    "# Compiling data about hands into a list of dictionaries\n",
    "\n",
    "hand_info=[]\n",
    "for i in range(len(table_hands_lists)):\n",
    "    for j in range(len(table_hands_lists[i])):\n",
    "        hand_dictionary=dict(zip(hand_information, hand_data(table_hands_lists[i][j])))\n",
    "        hand_info.append(hand_dictionary)"
   ]
  },
  {
   "cell_type": "markdown",
   "id": "bb7e8bf3",
   "metadata": {},
   "source": [
    "#### Here I extract the player information."
   ]
  },
  {
   "cell_type": "code",
   "execution_count": 50,
   "id": "97e353a9",
   "metadata": {},
   "outputs": [],
   "source": [
    "# Compiles into list of player data\n",
    "\n",
    "player_info=[]\n",
    "\n",
    "dict_of_dicts=player_data(table_hands_lists)\n",
    "for player in dict_of_dicts:\n",
    "    player_info.append(dict_of_dicts[player])\n",
    "    player_info[-1]['username']=player"
   ]
  },
  {
   "cell_type": "markdown",
   "id": "8b142b28",
   "metadata": {},
   "source": [
    "#### Here I extract information about how a player plays a hand."
   ]
  },
  {
   "cell_type": "code",
   "execution_count": 51,
   "id": "e6fb6a96",
   "metadata": {},
   "outputs": [],
   "source": [
    "# play_info is a list of dictionaries containing information about a player's play in each hand, with usernames as keys.\n",
    "# e.g. username:[hand_number, hand_datetime, position, starting_stack, finishing_stack, cards]\n",
    "\n",
    "play_info_1=[]\n",
    "flat_list_hands = [item for sublist in table_hands_lists for item in sublist]\n",
    "for i in range(len(flat_list_hands)):\n",
    "    play_info_1.append(play_data(flat_list_hands[i],hand_info[i], player_info))\n",
    "\n",
    "play_info=[]\n",
    "for i in range(len(play_info_1)):\n",
    "    hand_play=play_info_1[i]\n",
    "    for key in hand_play:\n",
    "        values=hand_play[key]\n",
    "        values.insert(0,key)\n",
    "        dictionary=dict(zip(play_information,values))\n",
    "        play_info.append(dictionary)"
   ]
  },
  {
   "cell_type": "code",
   "execution_count": 31,
   "id": "c673c4a3",
   "metadata": {},
   "outputs": [],
   "source": [
    "table_keys=table_info[0].keys()\n",
    "hand_keys=hand_info[0].keys()\n",
    "player_keys=player_info[0].keys()\n",
    "play_keys=play_info[0].keys()"
   ]
  },
  {
   "cell_type": "markdown",
   "id": "b5a00dfd",
   "metadata": {},
   "source": [
    "#### Examples of the output."
   ]
  },
  {
   "cell_type": "markdown",
   "id": "a62480d3",
   "metadata": {},
   "source": [
    "The information about the first table is as follows."
   ]
  },
  {
   "cell_type": "code",
   "execution_count": 63,
   "id": "b4c480da",
   "metadata": {},
   "outputs": [
    {
     "data": {
      "text/plain": [
       "{'table_name': 'Crescentia',\n",
       " 'small_blind': 50,\n",
       " 'big_blind': 100,\n",
       " 'table_datetime_start': ['2022-12-08 12:19:13'],\n",
       " 'table_duration_estimate': ['0:11:39']}"
      ]
     },
     "execution_count": 63,
     "metadata": {},
     "output_type": "execute_result"
    }
   ],
   "source": [
    "table_info[0]"
   ]
  },
  {
   "cell_type": "markdown",
   "id": "7e43d85e",
   "metadata": {},
   "source": [
    "The first hand played at the first table is as follows."
   ]
  },
  {
   "cell_type": "code",
   "execution_count": 61,
   "id": "9c9b8d31",
   "metadata": {},
   "outputs": [
    {
     "data": {
      "text/plain": [
       "{'hand_table_name': 'Crescentia',\n",
       " 'hand_datetime_start': '2022-12-08 12:19:13',\n",
       " 'hand_number': '240332455400',\n",
       " 'number_players': 5,\n",
       " 'positions': {'btn': '44dÃ©dÃ©',\n",
       "  'sb': 'mwm 013',\n",
       "  'bb': '333albi',\n",
       "  'utg': 'serioushippo677',\n",
       "  'mp': 'SickHooksJ88'},\n",
       " 'winner_main_pot': 'SickHooksJ88',\n",
       " 'winner_side_pot1': None,\n",
       " 'winner_side_pot2': None,\n",
       " 'winner_side_pot3': None,\n",
       " 'money_main_pot': 1512,\n",
       " 'money_side_pot1': None,\n",
       " 'money_side_pot2': None,\n",
       " 'money_side_pot3': None}"
      ]
     },
     "execution_count": 61,
     "metadata": {},
     "output_type": "execute_result"
    }
   ],
   "source": [
    "hand_info[0]"
   ]
  },
  {
   "cell_type": "markdown",
   "id": "199e35de",
   "metadata": {},
   "source": [
    "The first player, 'SickHooksJ88', having played 11 hands with them, has voluntarily put money into the pot during 10 of those hands. They have pre-flop-raised all 10 as well."
   ]
  },
  {
   "cell_type": "code",
   "execution_count": 64,
   "id": "0a6f171f",
   "metadata": {},
   "outputs": [
    {
     "data": {
      "text/plain": [
       "{'type': 'villain',\n",
       " 'hands_recorded': 11,\n",
       " 'vpip_count': 8,\n",
       " 'pfr_count': 2,\n",
       " 'username': '44dÃ©dÃ©'}"
      ]
     },
     "execution_count": 64,
     "metadata": {},
     "output_type": "execute_result"
    }
   ],
   "source": [
    "player_info[1]"
   ]
  },
  {
   "cell_type": "markdown",
   "id": "e7c955a6",
   "metadata": {},
   "source": [
    "We can see that during one of these hands, they won in the big blind with the 6 and queen of spades."
   ]
  },
  {
   "cell_type": "code",
   "execution_count": 67,
   "id": "4feac290",
   "metadata": {},
   "outputs": [
    {
     "data": {
      "text/plain": [
       "{'username_play': 'SickHooksJ88',\n",
       " 'hand_number_play': '240332464851',\n",
       " 'position_play': 'bb',\n",
       " 'starting_stack': 11012,\n",
       " 'finishing_stack': 18457,\n",
       " 'cards': ['6s', 'Qs']}"
      ]
     },
     "execution_count": 67,
     "metadata": {},
     "output_type": "execute_result"
    }
   ],
   "source": [
    "play_info[7]"
   ]
  },
  {
   "cell_type": "markdown",
   "id": "c2276990",
   "metadata": {},
   "source": [
    "#### I then export the data as seperate csv files."
   ]
  },
  {
   "cell_type": "code",
   "execution_count": 33,
   "id": "99bbe675",
   "metadata": {},
   "outputs": [],
   "source": [
    "import csv\n",
    "\n",
    "with open('poker_table.csv', 'w', newline='') as output_file:\n",
    "    dictionary_writer = csv.DictWriter(output_file, table_keys)\n",
    "    dictionary_writer.writeheader()\n",
    "    dictionary_writer.writerows(table_info)"
   ]
  },
  {
   "cell_type": "code",
   "execution_count": 34,
   "id": "84eae525",
   "metadata": {},
   "outputs": [],
   "source": [
    "with open('hand.csv', 'w', newline='') as output_file:\n",
    "    dictionary_writer = csv.DictWriter(output_file, hand_keys)\n",
    "    dictionary_writer.writeheader()\n",
    "    dictionary_writer.writerows(hand_info)"
   ]
  },
  {
   "cell_type": "code",
   "execution_count": 35,
   "id": "7416b8e3",
   "metadata": {},
   "outputs": [],
   "source": [
    "with open('player.csv', 'w', newline='') as output_file:\n",
    "    dictionary_writer = csv.DictWriter(output_file, player_keys)\n",
    "    dictionary_writer.writeheader()\n",
    "    dictionary_writer.writerows(player_info)"
   ]
  },
  {
   "cell_type": "code",
   "execution_count": 36,
   "id": "0c0bcc31",
   "metadata": {},
   "outputs": [],
   "source": [
    "with open('play.csv', 'w', newline='') as output_file:\n",
    "    dictionary_writer = csv.DictWriter(output_file, play_keys)\n",
    "    dictionary_writer.writeheader()\n",
    "    dictionary_writer.writerows(play_info)"
   ]
  }
 ],
 "metadata": {
  "kernelspec": {
   "display_name": "Python 3 (ipykernel)",
   "language": "python",
   "name": "python3"
  },
  "language_info": {
   "codemirror_mode": {
    "name": "ipython",
    "version": 3
   },
   "file_extension": ".py",
   "mimetype": "text/x-python",
   "name": "python",
   "nbconvert_exporter": "python",
   "pygments_lexer": "ipython3",
   "version": "3.8.8"
  }
 },
 "nbformat": 4,
 "nbformat_minor": 5
}
